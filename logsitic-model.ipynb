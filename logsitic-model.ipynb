{
 "cells": [
  {
   "cell_type": "code",
   "execution_count": 1,
   "metadata": {},
   "outputs": [],
   "source": [
    "#logistic regression classifier to recognize cats\n",
    "\n",
    "#modules\n",
    "import numpy as np\n",
    "import copy\n",
    "import matplotlib.pyplot as plt\n",
    "import h5py\n",
    "from PIL import Image\n",
    "from scipy import ndimage\n",
    "\n",
    "%matplotlib inline\n",
    "%load_ext autoreload\n",
    "%autoreload 2"
   ]
  },
  {
   "cell_type": "code",
   "execution_count": 2,
   "metadata": {},
   "outputs": [
    {
     "name": "stdout",
     "output_type": "stream",
     "text": [
      "Training set shape: (209, 64, 64, 3), Labels: (1, 209)\n",
      "Test set shape: (50, 64, 64, 3), Labels: (1, 50)\n",
      "Class labels: [b'non-cat' b'cat']\n"
     ]
    }
   ],
   "source": [
    "'''\n",
    "dataset contains m_train images labeled as cat(y=1) and non-cat(y=0)\n",
    "a test set of m_test images labeled as cat or non-cat\n",
    "each image has shape(num_px,num_px,3)\n",
    "'''\n",
    "#loading dataset (data.h5)\n",
    "\n",
    "\n",
    "def load_dataset():\n",
    "    # Load training dataset\n",
    "    with h5py.File(\"datasets/train_catvnoncat.h5\", \"r\") as train_dataset:\n",
    "        train_set_x_orig = np.array(train_dataset[\"train_set_x\"][:])  # images\n",
    "        train_set_y = np.array(train_dataset[\"train_set_y\"][:])       # labels\n",
    "\n",
    "    # Load test dataset\n",
    "    with h5py.File(\"datasets/test_catvnoncat.h5\", \"r\") as test_dataset:\n",
    "        test_set_x_orig = np.array(test_dataset[\"test_set_x\"][:])     # images\n",
    "        test_set_y = np.array(test_dataset[\"test_set_y\"][:])          # labels\n",
    "        classes = np.array(test_dataset[\"list_classes\"][:])           # [b'non-cat', b'cat']\n",
    "\n",
    "    # Reshape labels to match (1, m)\n",
    "    train_set_y = train_set_y.reshape((1, train_set_y.shape[0]))\n",
    "    test_set_y = test_set_y.reshape((1, test_set_y.shape[0]))\n",
    "\n",
    "    return train_set_x_orig, train_set_y, test_set_x_orig, test_set_y, classes\n",
    "\n",
    "# Load the datasets\n",
    "train_set_x_orig, train_set_y, test_set_x_orig, test_set_y, classes = load_dataset()\n",
    "\n",
    "# Print basic information for verification\n",
    "print(f\"Training set shape: {train_set_x_orig.shape}, Labels: {train_set_y.shape}\")\n",
    "print(f\"Test set shape: {test_set_x_orig.shape}, Labels: {test_set_y.shape}\")\n",
    "print(f\"Class labels: {classes}\")\n",
    "\n"
   ]
  },
  {
   "cell_type": "code",
   "execution_count": 3,
   "metadata": {},
   "outputs": [
    {
     "data": {
      "text/plain": [
       "<matplotlib.image.AxesImage at 0x165016bfb60>"
      ]
     },
     "execution_count": 3,
     "metadata": {},
     "output_type": "execute_result"
    },
    {
     "data": {
      "image/png": "[encoded data removed]",
      "text/plain": [
       "<Figure size 640x480 with 1 Axes>"
      ]
     },
     "metadata": {},
     "output_type": "display_data"
    }
   ],
   "source": [
    "#example image\n",
    "index = 25\n",
    "plt.imshow(train_set_x_orig[index])\n"
   ]
  },
  {
   "cell_type": "code",
   "execution_count": 4,
   "metadata": {},
   "outputs": [
    {
     "name": "stdout",
     "output_type": "stream",
     "text": [
      "Number of training examples: m_train = 209\n",
      "Number of testing examples: m_test = 50\n"
     ]
    }
   ],
   "source": [
    "#finding number of training examples\n",
    "m_train = train_set_x_orig.shape[0]\n",
    "#finding number of test examples\n",
    "m_test = test_set_x_orig.shape[0]\n",
    "\n",
    "print (\"Number of training examples: m_train = \" + str(m_train))\n",
    "print (\"Number of testing examples: m_test = \" + str(m_test))\n"
   ]
  },
  {
   "cell_type": "code",
   "execution_count": 5,
   "metadata": {},
   "outputs": [
    {
     "name": "stdout",
     "output_type": "stream",
     "text": [
      "train_set_x_flatten shape: (12288, 209)\n",
      "train_set_y shape: (1, 209)\n",
      "test_set_x_flatten shape: (12288, 50)\n",
      "test_set_y shape: (1, 50)\n"
     ]
    }
   ],
   "source": [
    "#reshaping -  flattening out into single vectors\n",
    "# X_flatten = X.reshape(X.shape[0], -1).T\n",
    "train_set_x_flatten = train_set_x_orig.reshape(train_set_x_orig.shape[0], -1).T\n",
    "test_set_x_flatten = test_set_x_orig.reshape(test_set_x_orig.shape[0], -1).T\n",
    "'''\n",
    "flattening is done to convert the 2D image into 1D vector \n",
    "to change how data is viewed\n",
    "generally we use (features,examples) rather than (examples,features) in machine learning\n",
    "'''\n",
    "\n",
    "print (\"train_set_x_flatten shape: \" + str(train_set_x_flatten.shape))\n",
    "print (\"train_set_y shape: \" + str(train_set_y.shape))\n",
    "print (\"test_set_x_flatten shape: \" + str(test_set_x_flatten.shape))\n",
    "print (\"test_set_y shape: \" + str(test_set_y.shape))\n",
    "\n",
    "#(12288, 209) means that there are 12288 pixels and there are 209 images"
   ]
  },
  {
   "cell_type": "code",
   "execution_count": 6,
   "metadata": {},
   "outputs": [
    {
     "name": "stdout",
     "output_type": "stream",
     "text": [
      "train_set_x_standardized shape: (12288, 209)\n",
      "test_set_x_standardized shape: (12288, 50)\n"
     ]
    }
   ],
   "source": [
    "#standardization\n",
    "\n",
    "train_set_x = train_set_x_flatten / 255\n",
    "test_set_x = test_set_x_flatten / 255\n",
    "\n",
    "'''\n",
    "common steps for preprocessing are - \n",
    "1. figure out dimensions and shapes of the problem\n",
    "2. reshape the dataset\n",
    "3. standardize the dataset\n",
    "'''\n",
    "print(\"train_set_x_standardized shape: \" + str(train_set_x.shape))\n",
    "print(\"test_set_x_standardized shape: \" + str(test_set_x.shape))\n"
   ]
  },
  {
   "cell_type": "code",
   "execution_count": 7,
   "metadata": {},
   "outputs": [],
   "source": [
    "#sigmoid helper function\n",
    "\n",
    "import math\n",
    "def sigmoid(z):\n",
    "    sigmoid = 1 / (1+np.exp(-z))\n",
    "    return sigmoid"
   ]
  },
  {
   "cell_type": "code",
   "execution_count": 8,
   "metadata": {},
   "outputs": [],
   "source": [
    "#parameters initialization\n",
    "\n",
    "'''\n",
    "parameters are - (w-weight) - shape(dim,1), (b-bias)\n",
    "here (dim) is the size of vector we want (number of parameters)\n",
    "'''\n",
    "def initialize_parameters(dim):\n",
    "    weight = np.zeros((dim,1)) * np.sqrt(2 / dim)\n",
    "    bias = 0.0\n",
    "\n",
    "    return weight, bias\n",
    "\n",
    "\n"
   ]
  },
  {
   "cell_type": "code",
   "execution_count": 9,
   "metadata": {},
   "outputs": [],
   "source": [
    "#forward propagation - calculating activation and cost function\n",
    "#backward propagation - calculation gradients dw and db\n",
    "'''\n",
    "Activation(A) - A = (wTX+b) = (a1,a2,a3,a...)\n",
    "Cost function(J) - J = -1/m{(yloga)+ (1-y)log(1-a)\n",
    "'''\n",
    "\n",
    "import numpy as np\n",
    "def propagation(w, b, X, Y):\n",
    "    '''\n",
    "    w - weights (numpy array of shape(dim,1))\n",
    "    b - scalar(initially 0.0)\n",
    "    X - data(numpy array of shape (n_features, m_examples))\n",
    "    Y - labels(numpy array of shape(1,m_examples))\n",
    "\n",
    "    Returns:\n",
    "    gradients - dictionary containing gradients 'dw' and 'db'\n",
    "    cost - cross entropy cost (scalar)\n",
    "    '''\n",
    "    m = X.shape[1]\n",
    "\n",
    "    # Forward propagation\n",
    "    Z = np.dot(w.T, X) + b\n",
    "    A = sigmoid(Z)\n",
    "\n",
    "    # Cost function (cross-entropy)\n",
    "    epsilon = 1e-15  # Small value to avoid log(0)\n",
    "    A = np.clip(A, epsilon, 1 - epsilon)  # Clip values to avoid log(0)\n",
    "    intial_cost = -(1 / m) * np.sum(Y * np.log(A) + (1 - Y) * np.log(1 - A))\n",
    "    lambd = 0.1\n",
    "    cost_regularization_factor = (lambd / (2 * m)) * np.sum(np.square(w))\n",
    "    cost = intial_cost + cost_regularization_factor\n",
    "\n",
    "    # Backward propagation\n",
    "    dZ = A - Y\n",
    "    dw = (1 / m) * np.dot(X, dZ.T) + (lambd / m) * w\n",
    "    db = (1 / m) * np.sum(dZ)\n",
    "\n",
    "    cost = np.squeeze(cost)\n",
    "    grads = {\"dw\": dw, \"db\": db}\n",
    "\n",
    "    return grads, cost\n"
   ]
  },
  {
   "cell_type": "code",
   "execution_count": 10,
   "metadata": {},
   "outputs": [],
   "source": [
    "# optimization of the algorithm - goal is to learn weights and bias by minimizing the cost function J.\n",
    "# updation rule states - Y = Y-adY (a - learning rate - adjustment factor w.r.t gradient in each step)\n",
    "\n",
    "def optimization(w, b, X, Y, iterations = 100, learning_rate = 0.05, print_cost = False):\n",
    "    w = copy.deepcopy(w)\n",
    "    b = copy.deepcopy(b)\n",
    "    costs = []\n",
    "\n",
    "    for i in range(iterations):\n",
    "        grads, current_cost = propagation(w, b, X, Y)\n",
    "\n",
    "        dw = grads['dw']\n",
    "        db = grads['db']\n",
    "\n",
    "        w = w - learning_rate * dw\n",
    "        b = b - learning_rate * db\n",
    "\n",
    "        if (i%100 == 0):\n",
    "            costs.append(current_cost)\n",
    "            if print_cost:\n",
    "                print(\"Cost after %i: %f\" %(i, current_cost))\n",
    "\n",
    "    params = {'w': w, 'b': b}\n",
    "    grads = {'dw': dw, 'db': db}\n",
    "\n",
    "    return params, grads, costs"
   ]
  },
  {
   "cell_type": "code",
   "execution_count": 11,
   "metadata": {},
   "outputs": [],
   "source": [
    "# making prediction\n",
    "\n",
    "'''\n",
    "converting entries of a into 0 (if activation <=0.5) or 1 otherwise and store them in a vector Y_prediction\n",
    "'''\n",
    "\n",
    "def prediction(weight, bias, X):\n",
    "    m = X.shape[1]\n",
    "    Y_prediction = np.zeros((1,m))\n",
    "    weight = weight.reshape(X.shape[0], 1)\n",
    "\n",
    "    Z = np.dot(weight.T, X) + bias\n",
    "    A = 1 / (1+np.exp(-Z))\n",
    "\n",
    "    for i in range(A.shape[1]):\n",
    "\n",
    "        if A[0,i] >= 0.5:\n",
    "            Y_prediction[0,i] = 1\n",
    "        else:\n",
    "            Y_prediction[0,i] = 0\n",
    "\n",
    "    return Y_prediction"
   ]
  },
  {
   "cell_type": "code",
   "execution_count": 12,
   "metadata": {},
   "outputs": [],
   "source": [
    "# finalization\n",
    "\n",
    "# merging all functions to create a model\n",
    "\n",
    "def logistic_regression_model(X_train, Y_train, X_test, Y_test, iterations = 2000, learning_rate = 0.05, print_cost = False):\n",
    "    '''\n",
    "    X_train - training set of shape (num_px * num_px * 3, m_train) \n",
    "    Y_train - training labels of shape (1, m_train)\n",
    "    X_test - test set of shape (num_px * num_px * 3, m_test)\n",
    "    Y_test - test labels of shape (1, m_test)\n",
    "    '''\n",
    "\n",
    "    w, b = initialize_parameters(X_train.shape[0])\n",
    "\n",
    "    params, grads, costs = optimization(w, b, X_train, Y_train, iterations, learning_rate, print_cost)\n",
    "\n",
    "    w = params['w']\n",
    "    b = params['b']\n",
    "\n",
    "    Y_prediction_train = prediction(w, b, X_train)\n",
    "    Y_prediction_test = prediction(w, b, X_test)\n",
    "\n",
    "    if print_cost:\n",
    "        print(\"train set accuracy: {} %\".format(100 - np.mean(np.abs(Y_prediction_train - Y_train)) * 100))\n",
    "        print(\"test set accuracy: {} %\".format(100 - np.mean(np.abs(Y_prediction_test - Y_test)) * 100))\n",
    "\n",
    "    d = {\"costs\": costs,\n",
    "         \"Y_prediction_test\": Y_prediction_test, \n",
    "         \"Y_prediction_train\" : Y_prediction_train, \n",
    "         \"w\" : w, \n",
    "         \"b\" : b,\n",
    "         \"learning_rate\" : learning_rate,\n",
    "         \"num_iterations\": iterations}\n",
    "    \n",
    "    return d"
   ]
  },
  {
   "cell_type": "code",
   "execution_count": 13,
   "metadata": {},
   "outputs": [
    {
     "name": "stdout",
     "output_type": "stream",
     "text": [
      "Cost after 0: 0.693147\n",
      "Cost after 100: 0.622201\n",
      "Cost after 200: 1.804785\n",
      "Cost after 300: 1.060954\n",
      "Cost after 400: 0.727660\n",
      "Cost after 500: 0.465176\n",
      "Cost after 600: 0.251087\n",
      "Cost after 700: 0.156088\n",
      "Cost after 800: 0.136540\n",
      "Cost after 900: 0.126279\n",
      "Cost after 1000: 0.117899\n",
      "Cost after 1100: 0.110726\n",
      "Cost after 1200: 0.104448\n",
      "Cost after 1300: 0.098880\n",
      "Cost after 1400: 0.093896\n",
      "Cost after 1500: 0.089404\n",
      "Cost after 1600: 0.085333\n",
      "Cost after 1700: 0.081627\n",
      "Cost after 1800: 0.078237\n",
      "Cost after 1900: 0.075127\n",
      "train set accuracy: 99.52153110047847 %\n",
      "test set accuracy: 70.0 %\n"
     ]
    }
   ],
   "source": [
    "# Run the model with appropriate learning rate and iterations\n",
    "model = logistic_regression_model(train_set_x, train_set_y, test_set_x, test_set_y, \n",
    "                                iterations=2000, \n",
    "                                learning_rate=0.01,  # Increased learning rate\n",
    "                                print_cost=True)"
   ]
  }
 ],
 "metadata": {
  "kernelspec": {
   "display_name": ".venv",
   "language": "python",
   "name": "python3"
  },
  "language_info": {
   "codemirror_mode": {
    "name": "ipython",
    "version": 3
   },
   "file_extension": ".py",
   "mimetype": "text/x-python",
   "name": "python",
   "nbconvert_exporter": "python",
   "pygments_lexer": "ipython3",
   "version": "3.12.10"
  }
 },
 "nbformat": 4,
 "nbformat_minor": 2
}
